{
 "cells": [
  {
   "cell_type": "code",
   "execution_count": 80,
   "metadata": {},
   "outputs": [],
   "source": [
    "from selenium import webdriver\n",
    "from selenium.webdriver.chrome.service import Service\n",
    "from selenium.webdriver.support.ui import Select\n",
    "from selenium.webdriver.common.by import By\n",
    "\n",
    "from glob import glob\n",
    "import os\n",
    "import time\n",
    "import random\n",
    "import numpy as np\n",
    "import pandas as pd\n",
    "import pandas_datareader as pdr\n",
    "import matplotlib.pyplot as plt"
   ]
  },
  {
   "cell_type": "markdown",
   "metadata": {},
   "source": [
    "# 台灣五十"
   ]
  },
  {
   "cell_type": "code",
   "execution_count": null,
   "metadata": {},
   "outputs": [],
   "source": [
    "# # 透過原始碼從證交所抓台灣五十指數及台灣五十報酬指數(已失效，會有錯誤資料)\n",
    "\n",
    "# def put_data_in_list(date_list, tw50_list, tw50_return_list):\n",
    "#     table = driver.find_element(by=By.CSS_SELECTOR, value=\"div[class='data-table']\")\n",
    "#     td_content = table.find_elements(by=By.TAG_NAME, value=\"td\")\n",
    "\n",
    "#     for idx, td in enumerate(td_content):\n",
    "#         if (idx%3) == 0:\n",
    "#             slash_idx = td.text.find('/')\n",
    "#             date_list.append(str(int(td.text[:slash_idx])+1911) + td.text[slash_idx:])\n",
    "#         if (idx%3) == 1:\n",
    "#             tw50_list.append(float(td.text.replace(',','')))\n",
    "#         if (idx%3) == 2:\n",
    "#             tw50_return_list.append(float(td.text.replace(',','')))\n",
    "\n",
    "# url = 'https://www.twse.com.tw/zh/page/trading/indices/TAI50I.html'\n",
    "# path = '/Users/chungichien/Desktop/chromedriver'\n",
    "\n",
    "# service = Service(path)\n",
    "# options = webdriver.ChromeOptions()\n",
    "# driver = webdriver.Chrome(service=service, options=options)\n",
    "\n",
    "# driver.get(url)\n",
    "# driver.maximize_window()\n",
    "# select_yy = Select(driver.find_element(by=By.NAME, value='yy'))\n",
    "# select_mm = Select(driver.find_element(by=By.NAME, value='mm'))\n",
    "\n",
    "# date_list = []\n",
    "# tw50_list = []\n",
    "# tw50_return_list = []\n",
    "\n",
    "# op_year_list = []\n",
    "# for op in select_yy.options:\n",
    "#     op_year_list.insert(0, op.text)\n",
    "\n",
    "# op_month_list = []\n",
    "# for op in select_mm.options:\n",
    "#     op_month_list.append(op.text)\n",
    "\n",
    "# for idx, yy in enumerate(op_year_list):\n",
    "#     select_yy.select_by_visible_text(yy)\n",
    "    \n",
    "#     month_start = 0\n",
    "#     month_end = 12\n",
    "#     if idx == 0:\n",
    "#         month_start = 9\n",
    "#     if idx == (len(op_year_list) - 1):\n",
    "#         month_end = 7   # 視最新月份決定，當時為七月\n",
    "    \n",
    "#     for mm in op_month_list[month_start:month_end]:\n",
    "#         select_mm.select_by_visible_text(mm)\n",
    "#         driver.find_element(by=By.CSS_SELECTOR, value=\"a[class='button search']\").click()\n",
    "        \n",
    "#         # 點擊後等待一段時間，避免被ban掉\n",
    "#         time.sleep(3)\n",
    "        \n",
    "#         put_data_in_list(date_list, tw50_list, tw50_return_list)\n",
    "\n",
    "# driver.quit()\n"
   ]
  },
  {
   "cell_type": "code",
   "execution_count": 84,
   "metadata": {},
   "outputs": [
    {
     "name": "stdout",
     "output_type": "stream",
     "text": [
      "yy= 民國 91 年 mm= 10月\n",
      "yy= 民國 91 年 mm= 11月\n",
      "yy= 民國 91 年 mm= 12月\n",
      "yy= 民國 92 年 mm= 01月\n",
      "yy= 民國 92 年 mm= 02月\n",
      "yy= 民國 92 年 mm= 03月\n",
      "yy= 民國 92 年 mm= 04月\n",
      "yy= 民國 92 年 mm= 05月\n",
      "yy= 民國 92 年 mm= 06月\n",
      "yy= 民國 92 年 mm= 07月\n",
      "yy= 民國 92 年 mm= 08月\n",
      "yy= 民國 92 年 mm= 09月\n",
      "yy= 民國 92 年 mm= 10月\n",
      "yy= 民國 92 年 mm= 11月\n",
      "yy= 民國 92 年 mm= 12月\n",
      "yy= 民國 93 年 mm= 01月\n",
      "yy= 民國 93 年 mm= 02月\n",
      "yy= 民國 93 年 mm= 03月\n",
      "yy= 民國 93 年 mm= 04月\n",
      "yy= 民國 93 年 mm= 05月\n",
      "yy= 民國 93 年 mm= 06月\n",
      "yy= 民國 93 年 mm= 07月\n",
      "yy= 民國 93 年 mm= 08月\n",
      "yy= 民國 93 年 mm= 09月\n",
      "yy= 民國 93 年 mm= 10月\n",
      "yy= 民國 93 年 mm= 11月\n",
      "yy= 民國 93 年 mm= 12月\n",
      "yy= 民國 94 年 mm= 01月\n",
      "yy= 民國 94 年 mm= 02月\n",
      "yy= 民國 94 年 mm= 03月\n",
      "yy= 民國 94 年 mm= 04月\n",
      "yy= 民國 94 年 mm= 05月\n",
      "yy= 民國 94 年 mm= 06月\n",
      "yy= 民國 94 年 mm= 07月\n",
      "yy= 民國 94 年 mm= 08月\n",
      "yy= 民國 94 年 mm= 09月\n",
      "yy= 民國 94 年 mm= 10月\n",
      "yy= 民國 94 年 mm= 11月\n",
      "yy= 民國 94 年 mm= 12月\n",
      "yy= 民國 95 年 mm= 01月\n",
      "yy= 民國 95 年 mm= 02月\n",
      "yy= 民國 95 年 mm= 03月\n",
      "yy= 民國 95 年 mm= 04月\n",
      "yy= 民國 95 年 mm= 05月\n",
      "yy= 民國 95 年 mm= 06月\n",
      "yy= 民國 95 年 mm= 07月\n",
      "yy= 民國 95 年 mm= 08月\n",
      "yy= 民國 95 年 mm= 09月\n",
      "yy= 民國 95 年 mm= 10月\n",
      "yy= 民國 95 年 mm= 11月\n",
      "yy= 民國 95 年 mm= 12月\n",
      "yy= 民國 96 年 mm= 01月\n",
      "yy= 民國 96 年 mm= 02月\n",
      "yy= 民國 96 年 mm= 03月\n",
      "yy= 民國 96 年 mm= 04月\n",
      "yy= 民國 96 年 mm= 05月\n",
      "yy= 民國 96 年 mm= 06月\n",
      "yy= 民國 96 年 mm= 07月\n",
      "yy= 民國 96 年 mm= 08月\n",
      "yy= 民國 96 年 mm= 09月\n",
      "yy= 民國 96 年 mm= 10月\n",
      "yy= 民國 96 年 mm= 11月\n",
      "yy= 民國 96 年 mm= 12月\n",
      "yy= 民國 97 年 mm= 01月\n",
      "yy= 民國 97 年 mm= 02月\n",
      "yy= 民國 97 年 mm= 03月\n",
      "yy= 民國 97 年 mm= 04月\n",
      "yy= 民國 97 年 mm= 05月\n",
      "yy= 民國 97 年 mm= 06月\n",
      "yy= 民國 97 年 mm= 07月\n",
      "yy= 民國 97 年 mm= 08月\n",
      "yy= 民國 97 年 mm= 09月\n",
      "yy= 民國 97 年 mm= 10月\n",
      "yy= 民國 97 年 mm= 11月\n",
      "yy= 民國 97 年 mm= 12月\n",
      "yy= 民國 98 年 mm= 01月\n",
      "yy= 民國 98 年 mm= 02月\n",
      "yy= 民國 98 年 mm= 03月\n",
      "yy= 民國 98 年 mm= 04月\n",
      "yy= 民國 98 年 mm= 05月\n",
      "yy= 民國 98 年 mm= 06月\n",
      "yy= 民國 98 年 mm= 07月\n",
      "yy= 民國 98 年 mm= 08月\n",
      "yy= 民國 98 年 mm= 09月\n",
      "yy= 民國 98 年 mm= 10月\n",
      "yy= 民國 98 年 mm= 11月\n",
      "yy= 民國 98 年 mm= 12月\n",
      "yy= 民國 99 年 mm= 01月\n",
      "yy= 民國 99 年 mm= 02月\n",
      "yy= 民國 99 年 mm= 03月\n",
      "yy= 民國 99 年 mm= 04月\n",
      "yy= 民國 99 年 mm= 05月\n",
      "yy= 民國 99 年 mm= 06月\n",
      "yy= 民國 99 年 mm= 07月\n",
      "yy= 民國 99 年 mm= 08月\n",
      "yy= 民國 99 年 mm= 09月\n",
      "yy= 民國 99 年 mm= 10月\n",
      "yy= 民國 99 年 mm= 11月\n",
      "yy= 民國 99 年 mm= 12月\n",
      "yy= 民國 100 年 mm= 01月\n",
      "yy= 民國 100 年 mm= 02月\n",
      "yy= 民國 100 年 mm= 03月\n",
      "yy= 民國 100 年 mm= 04月\n",
      "yy= 民國 100 年 mm= 05月\n",
      "yy= 民國 100 年 mm= 06月\n",
      "yy= 民國 100 年 mm= 07月\n",
      "yy= 民國 100 年 mm= 08月\n",
      "yy= 民國 100 年 mm= 09月\n",
      "yy= 民國 100 年 mm= 10月\n",
      "yy= 民國 100 年 mm= 11月\n",
      "yy= 民國 100 年 mm= 12月\n",
      "yy= 民國 101 年 mm= 01月\n",
      "yy= 民國 101 年 mm= 02月\n",
      "yy= 民國 101 年 mm= 03月\n",
      "yy= 民國 101 年 mm= 04月\n",
      "yy= 民國 101 年 mm= 05月\n",
      "yy= 民國 101 年 mm= 06月\n",
      "yy= 民國 101 年 mm= 07月\n",
      "yy= 民國 101 年 mm= 08月\n",
      "yy= 民國 101 年 mm= 09月\n",
      "yy= 民國 101 年 mm= 10月\n",
      "yy= 民國 101 年 mm= 11月\n",
      "yy= 民國 101 年 mm= 12月\n",
      "yy= 民國 102 年 mm= 01月\n",
      "yy= 民國 102 年 mm= 02月\n",
      "yy= 民國 102 年 mm= 03月\n",
      "yy= 民國 102 年 mm= 04月\n",
      "yy= 民國 102 年 mm= 05月\n",
      "yy= 民國 102 年 mm= 06月\n",
      "yy= 民國 102 年 mm= 07月\n",
      "yy= 民國 102 年 mm= 08月\n",
      "yy= 民國 102 年 mm= 09月\n",
      "yy= 民國 102 年 mm= 10月\n",
      "yy= 民國 102 年 mm= 11月\n",
      "yy= 民國 102 年 mm= 12月\n",
      "yy= 民國 103 年 mm= 01月\n",
      "yy= 民國 103 年 mm= 02月\n",
      "yy= 民國 103 年 mm= 03月\n",
      "yy= 民國 103 年 mm= 04月\n",
      "yy= 民國 103 年 mm= 05月\n",
      "yy= 民國 103 年 mm= 06月\n",
      "yy= 民國 103 年 mm= 07月\n",
      "yy= 民國 103 年 mm= 08月\n",
      "yy= 民國 103 年 mm= 09月\n",
      "yy= 民國 103 年 mm= 10月\n",
      "yy= 民國 103 年 mm= 11月\n",
      "yy= 民國 103 年 mm= 12月\n",
      "yy= 民國 104 年 mm= 01月\n",
      "yy= 民國 104 年 mm= 02月\n",
      "yy= 民國 104 年 mm= 03月\n",
      "yy= 民國 104 年 mm= 04月\n",
      "yy= 民國 104 年 mm= 05月\n",
      "yy= 民國 104 年 mm= 06月\n",
      "yy= 民國 104 年 mm= 07月\n",
      "yy= 民國 104 年 mm= 08月\n",
      "yy= 民國 104 年 mm= 09月\n",
      "yy= 民國 104 年 mm= 10月\n",
      "yy= 民國 104 年 mm= 11月\n",
      "yy= 民國 104 年 mm= 12月\n",
      "yy= 民國 105 年 mm= 01月\n",
      "yy= 民國 105 年 mm= 02月\n",
      "yy= 民國 105 年 mm= 03月\n",
      "yy= 民國 105 年 mm= 04月\n",
      "yy= 民國 105 年 mm= 05月\n",
      "yy= 民國 105 年 mm= 06月\n",
      "yy= 民國 105 年 mm= 07月\n",
      "yy= 民國 105 年 mm= 08月\n",
      "yy= 民國 105 年 mm= 09月\n",
      "yy= 民國 105 年 mm= 10月\n",
      "yy= 民國 105 年 mm= 11月\n",
      "yy= 民國 105 年 mm= 12月\n",
      "yy= 民國 106 年 mm= 01月\n",
      "yy= 民國 106 年 mm= 02月\n",
      "yy= 民國 106 年 mm= 03月\n",
      "yy= 民國 106 年 mm= 04月\n",
      "yy= 民國 106 年 mm= 05月\n",
      "yy= 民國 106 年 mm= 06月\n",
      "yy= 民國 106 年 mm= 07月\n",
      "yy= 民國 106 年 mm= 08月\n",
      "yy= 民國 106 年 mm= 09月\n",
      "yy= 民國 106 年 mm= 10月\n",
      "yy= 民國 106 年 mm= 11月\n",
      "yy= 民國 106 年 mm= 12月\n",
      "yy= 民國 107 年 mm= 01月\n",
      "yy= 民國 107 年 mm= 02月\n",
      "yy= 民國 107 年 mm= 03月\n",
      "yy= 民國 107 年 mm= 04月\n",
      "yy= 民國 107 年 mm= 05月\n",
      "yy= 民國 107 年 mm= 06月\n",
      "yy= 民國 107 年 mm= 07月\n",
      "yy= 民國 107 年 mm= 08月\n",
      "yy= 民國 107 年 mm= 09月\n",
      "yy= 民國 107 年 mm= 10月\n",
      "yy= 民國 107 年 mm= 11月\n",
      "yy= 民國 107 年 mm= 12月\n",
      "yy= 民國 108 年 mm= 01月\n",
      "yy= 民國 108 年 mm= 02月\n",
      "yy= 民國 108 年 mm= 03月\n",
      "yy= 民國 108 年 mm= 04月\n",
      "yy= 民國 108 年 mm= 05月\n",
      "yy= 民國 108 年 mm= 06月\n",
      "yy= 民國 108 年 mm= 07月\n",
      "yy= 民國 108 年 mm= 08月\n",
      "yy= 民國 108 年 mm= 09月\n",
      "yy= 民國 108 年 mm= 10月\n",
      "yy= 民國 108 年 mm= 11月\n",
      "yy= 民國 108 年 mm= 12月\n",
      "yy= 民國 109 年 mm= 01月\n",
      "yy= 民國 109 年 mm= 02月\n",
      "yy= 民國 109 年 mm= 03月\n",
      "yy= 民國 109 年 mm= 04月\n",
      "yy= 民國 109 年 mm= 05月\n",
      "yy= 民國 109 年 mm= 06月\n",
      "yy= 民國 109 年 mm= 07月\n",
      "yy= 民國 109 年 mm= 08月\n",
      "yy= 民國 109 年 mm= 09月\n",
      "yy= 民國 109 年 mm= 10月\n",
      "yy= 民國 109 年 mm= 11月\n",
      "yy= 民國 109 年 mm= 12月\n",
      "yy= 民國 110 年 mm= 01月\n",
      "yy= 民國 110 年 mm= 02月\n",
      "yy= 民國 110 年 mm= 03月\n",
      "yy= 民國 110 年 mm= 04月\n",
      "yy= 民國 110 年 mm= 05月\n",
      "yy= 民國 110 年 mm= 06月\n",
      "yy= 民國 110 年 mm= 07月\n",
      "yy= 民國 110 年 mm= 08月\n",
      "yy= 民國 110 年 mm= 09月\n",
      "yy= 民國 110 年 mm= 10月\n",
      "yy= 民國 110 年 mm= 11月\n",
      "yy= 民國 110 年 mm= 12月\n",
      "yy= 民國 111 年 mm= 01月\n",
      "yy= 民國 111 年 mm= 02月\n",
      "yy= 民國 111 年 mm= 03月\n",
      "yy= 民國 111 年 mm= 04月\n",
      "yy= 民國 111 年 mm= 05月\n",
      "yy= 民國 111 年 mm= 06月\n",
      "yy= 民國 111 年 mm= 07月\n"
     ]
    },
    {
     "data": {
      "text/html": [
       "<div>\n",
       "<style scoped>\n",
       "    .dataframe tbody tr th:only-of-type {\n",
       "        vertical-align: middle;\n",
       "    }\n",
       "\n",
       "    .dataframe tbody tr th {\n",
       "        vertical-align: top;\n",
       "    }\n",
       "\n",
       "    .dataframe thead th {\n",
       "        text-align: right;\n",
       "    }\n",
       "</style>\n",
       "<table border=\"1\" class=\"dataframe\">\n",
       "  <thead>\n",
       "    <tr style=\"text-align: right;\">\n",
       "      <th></th>\n",
       "      <th>TW50</th>\n",
       "      <th>TW50TR</th>\n",
       "    </tr>\n",
       "    <tr>\n",
       "      <th>日期</th>\n",
       "      <th></th>\n",
       "      <th></th>\n",
       "    </tr>\n",
       "  </thead>\n",
       "  <tbody>\n",
       "    <tr>\n",
       "      <th>2002-10-18</th>\n",
       "      <td>3409.79</td>\n",
       "      <td>3448.13</td>\n",
       "    </tr>\n",
       "    <tr>\n",
       "      <th>2002-10-21</th>\n",
       "      <td>3400.68</td>\n",
       "      <td>3438.92</td>\n",
       "    </tr>\n",
       "    <tr>\n",
       "      <th>2002-10-22</th>\n",
       "      <td>3323.56</td>\n",
       "      <td>3360.93</td>\n",
       "    </tr>\n",
       "    <tr>\n",
       "      <th>2002-10-23</th>\n",
       "      <td>3496.82</td>\n",
       "      <td>3536.14</td>\n",
       "    </tr>\n",
       "    <tr>\n",
       "      <th>2002-10-24</th>\n",
       "      <td>3483.31</td>\n",
       "      <td>3523.98</td>\n",
       "    </tr>\n",
       "    <tr>\n",
       "      <th>...</th>\n",
       "      <td>...</td>\n",
       "      <td>...</td>\n",
       "    </tr>\n",
       "    <tr>\n",
       "      <th>2022-07-18</th>\n",
       "      <td>11364.54</td>\n",
       "      <td>23478.68</td>\n",
       "    </tr>\n",
       "    <tr>\n",
       "      <th>2022-07-19</th>\n",
       "      <td>11310.70</td>\n",
       "      <td>23367.45</td>\n",
       "    </tr>\n",
       "    <tr>\n",
       "      <th>2022-07-20</th>\n",
       "      <td>11364.57</td>\n",
       "      <td>23490.83</td>\n",
       "    </tr>\n",
       "    <tr>\n",
       "      <th>2022-07-21</th>\n",
       "      <td>11552.63</td>\n",
       "      <td>23884.72</td>\n",
       "    </tr>\n",
       "    <tr>\n",
       "      <th>2022-07-22</th>\n",
       "      <td>11577.66</td>\n",
       "      <td>23936.47</td>\n",
       "    </tr>\n",
       "  </tbody>\n",
       "</table>\n",
       "<p>4893 rows × 2 columns</p>\n",
       "</div>"
      ],
      "text/plain": [
       "                TW50    TW50TR\n",
       "日期                            \n",
       "2002-10-18   3409.79   3448.13\n",
       "2002-10-21   3400.68   3438.92\n",
       "2002-10-22   3323.56   3360.93\n",
       "2002-10-23   3496.82   3536.14\n",
       "2002-10-24   3483.31   3523.98\n",
       "...              ...       ...\n",
       "2022-07-18  11364.54  23478.68\n",
       "2022-07-19  11310.70  23367.45\n",
       "2022-07-20  11364.57  23490.83\n",
       "2022-07-21  11552.63  23884.72\n",
       "2022-07-22  11577.66  23936.47\n",
       "\n",
       "[4893 rows x 2 columns]"
      ]
     },
     "execution_count": 84,
     "metadata": {},
     "output_type": "execute_result"
    }
   ],
   "source": [
    "# 從證交所下載每月台灣五十指數及台灣五十報酬指數CSV檔，然後另行處理\n",
    "\n",
    "url = 'https://www.twse.com.tw/zh/page/trading/indices/TAI50I.html'\n",
    "path = '/Users/chungichien/Desktop/chromedriver'\n",
    "\n",
    "service = Service(path)\n",
    "options = webdriver.ChromeOptions()\n",
    "\n",
    "driver = webdriver.Chrome(service=service, options=options)\n",
    "driver.get(url)\n",
    "time.sleep(3)\n",
    "driver.maximize_window()\n",
    "\n",
    "a = 1\n",
    "b = 3\n",
    "time.sleep(random.uniform(a,b))\n",
    "select_yy = Select(driver.find_element(by=By.NAME, value='yy'))\n",
    "select_mm = Select(driver.find_element(by=By.NAME, value='mm'))\n",
    "\n",
    "op_year_list = []\n",
    "for op in select_yy.options:\n",
    "    op_year_list.insert(0, op.text)\n",
    "\n",
    "op_month_list = []\n",
    "for op in select_mm.options:\n",
    "    op_month_list.append(op.text)\n",
    "\n",
    "downloads_counter = 0\n",
    "for idx, yy in enumerate(op_year_list):\n",
    "    select_yy.select_by_visible_text(yy)\n",
    "    time.sleep(random.uniform(a,b))\n",
    "    \n",
    "    month_start = 0\n",
    "    month_end = 12\n",
    "    if idx == 0:\n",
    "        month_start = 9\n",
    "    if idx == (len(op_year_list) - 1):\n",
    "        month_end = 7   # 視最新月份決定，當時為七月\n",
    "    \n",
    "    for mm in op_month_list[month_start:month_end]:\n",
    "        print('yy=', yy, 'mm=', mm)\n",
    "        select_mm.select_by_visible_text(mm)\n",
    "        time.sleep(random.uniform(a,b))\n",
    "        driver.find_element(by=By.CSS_SELECTOR, value=\"a[class='button search']\").click()\n",
    "        time.sleep(random.uniform(a,b)+3)\n",
    "        driver.find_element(by=By.CSS_SELECTOR, value=\"a[class='csv']\").click()\n",
    "        time.sleep(random.uniform(a,b)+1.5)\n",
    "        downloads_counter += 1\n",
    "    \n",
    "    time.sleep(random.uniform(5,10))\n",
    "\n",
    "driver.quit()\n",
    "\n",
    "def date_trans(date):\n",
    "    date = date.replace(date[0:3], str(int(date[0:3]) + 1911))\n",
    "    return date\n",
    "\n",
    "def get_data_from_file(path):\n",
    "    month_data = pd.read_csv(path, thousands=\",\", encoding='big5')\n",
    "    month_data = month_data.iloc[:,:3]\n",
    "    month_data['日期'] = pd.to_datetime(month_data['日期'].apply(date_trans))\n",
    "    month_data.set_index('日期', inplace=True)\n",
    "    return month_data\n",
    "\n",
    "TAI50_Pattern = '/Users/chungichien/Downloads/TAI50I*.csv'\n",
    "TAI50_file_list = glob(TAI50_Pattern)\n",
    "TAI50_file_time_list = []\n",
    "for i in TAI50_file_list:\n",
    "    file_time = pd.to_datetime(os.path.getmtime(i), unit='s')\n",
    "    TAI50_file_time_list.append(file_time)\n",
    "TAI50_file_name_list = list(pd.DataFrame([TAI50_file_time_list, TAI50_file_list]).transpose().sort_values(by=0)[1])\n",
    "\n",
    "TAI50_complete_df = pd.DataFrame()\n",
    "for name in TAI50_file_name_list:\n",
    "    month_data = get_data_from_file(name)\n",
    "    TAI50_complete_df = pd.concat([TAI50_complete_df, month_data])\n",
    "\n",
    "TAI50_complete_df.columns = ['TW50', 'TW50TR']\n",
    "TAI50_complete_df"
   ]
  },
  {
   "cell_type": "code",
   "execution_count": 90,
   "metadata": {},
   "outputs": [
    {
     "data": {
      "text/plain": [
       "<AxesSubplot:xlabel='日期'>"
      ]
     },
     "execution_count": 90,
     "metadata": {},
     "output_type": "execute_result"
    },
    {
     "name": "stderr",
     "output_type": "stream",
     "text": [
      "/Users/chungichien/opt/anaconda3/envs/quant/lib/python3.8/site-packages/matplotlib/backends/backend_agg.py:238: RuntimeWarning: Glyph 26085 missing from current font.\n",
      "  font.set_text(s, 0.0, flags=flags)\n",
      "/Users/chungichien/opt/anaconda3/envs/quant/lib/python3.8/site-packages/matplotlib/backends/backend_agg.py:238: RuntimeWarning: Glyph 26399 missing from current font.\n",
      "  font.set_text(s, 0.0, flags=flags)\n",
      "/Users/chungichien/opt/anaconda3/envs/quant/lib/python3.8/site-packages/matplotlib/backends/backend_agg.py:201: RuntimeWarning: Glyph 26085 missing from current font.\n",
      "  font.set_text(s, 0, flags=flags)\n",
      "/Users/chungichien/opt/anaconda3/envs/quant/lib/python3.8/site-packages/matplotlib/backends/backend_agg.py:201: RuntimeWarning: Glyph 26399 missing from current font.\n",
      "  font.set_text(s, 0, flags=flags)\n"
     ]
    },
    {
     "data": {
      "image/png": "[encoded data removed]",
      "text/plain": [
       "<Figure size 432x288 with 1 Axes>"
      ]
     },
     "metadata": {
      "needs_background": "light"
     },
     "output_type": "display_data"
    }
   ],
   "source": [
    "TAI50_complete_df['2003-11-15':'2003-12-10'].plot()"
   ]
  },
  {
   "cell_type": "code",
   "execution_count": 95,
   "metadata": {},
   "outputs": [
    {
     "data": {
      "text/plain": [
       "<AxesSubplot:xlabel='日期'>"
      ]
     },
     "execution_count": 95,
     "metadata": {},
     "output_type": "execute_result"
    },
    {
     "name": "stderr",
     "output_type": "stream",
     "text": [
      "/Users/chungichien/opt/anaconda3/envs/quant/lib/python3.8/site-packages/matplotlib/backends/backend_agg.py:238: RuntimeWarning: Glyph 26085 missing from current font.\n",
      "  font.set_text(s, 0.0, flags=flags)\n",
      "/Users/chungichien/opt/anaconda3/envs/quant/lib/python3.8/site-packages/matplotlib/backends/backend_agg.py:238: RuntimeWarning: Glyph 26399 missing from current font.\n",
      "  font.set_text(s, 0.0, flags=flags)\n",
      "/Users/chungichien/opt/anaconda3/envs/quant/lib/python3.8/site-packages/matplotlib/backends/backend_agg.py:201: RuntimeWarning: Glyph 26085 missing from current font.\n",
      "  font.set_text(s, 0, flags=flags)\n",
      "/Users/chungichien/opt/anaconda3/envs/quant/lib/python3.8/site-packages/matplotlib/backends/backend_agg.py:201: RuntimeWarning: Glyph 26399 missing from current font.\n",
      "  font.set_text(s, 0, flags=flags)\n"
     ]
    },
    {
     "data": {
      "image/png": "[encoded data removed]",
      "text/plain": [
       "<Figure size 432x288 with 1 Axes>"
      ]
     },
     "metadata": {
      "needs_background": "light"
     },
     "output_type": "display_data"
    }
   ],
   "source": [
    "TAI50_complete_df.drop(index='2003-11-26').plot()"
   ]
  },
  {
   "cell_type": "code",
   "execution_count": 96,
   "metadata": {},
   "outputs": [],
   "source": [
    "TAI50_complete_df.drop(index='2003-11-26').to_csv('./台灣指數資料.csv')"
   ]
  },
  {
   "cell_type": "markdown",
   "metadata": {},
   "source": [
    "# 回測"
   ]
  },
  {
   "cell_type": "markdown",
   "metadata": {},
   "source": [
    "## 台灣五十"
   ]
  },
  {
   "cell_type": "code",
   "execution_count": null,
   "metadata": {},
   "outputs": [],
   "source": [
    "TW50_dataframe = TAI50_complete_df\n",
    "\n",
    "TW50_record_high = []\n",
    "TW50TR_record_high = []\n",
    "for i in range(len(TW50_dataframe.TW50)):\n",
    "    TW50_record_high.append(TW50_dataframe.TW50[TW50_dataframe.TW50[:i+1].idxmax()])\n",
    "    TW50TR_record_high.append(TW50_dataframe.TW50TR[TW50_dataframe.TW50[:i+1].idxmax()])\n",
    "TW50_dataframe['TW50_record_high'] = TW50_record_high\n",
    "TW50_dataframe['TW50TR_record_high'] = TW50TR_record_high\n",
    "TW50_dataframe['TW50_drawdown'] = 1 - (TW50_dataframe.TW50 / TW50_dataframe.TW50_record_high)\n",
    "TW50_dataframe['TW50TR_drawdown'] = 1 - (TW50_dataframe.TW50TR / TW50_dataframe.TW50TR_record_high)\n",
    "\n",
    "TW50_record_high_order = [0]\n",
    "order = 0\n",
    "for i in range(1, len(TW50_dataframe.TW50)):\n",
    "    if TW50_dataframe.TW50_record_high[i] > TW50_dataframe.TW50_record_high[i-1]:\n",
    "        order += 1\n",
    "    TW50_record_high_order.append(order)\n",
    "TW50_dataframe['TW50_record_high_order'] = TW50_record_high_order"
   ]
  },
  {
   "cell_type": "code",
   "execution_count": 5,
   "metadata": {},
   "outputs": [
    {
     "name": "stdout",
     "output_type": "stream",
     "text": [
      "              TW50TR\n",
      "2002-10-18   3448.13\n",
      "2002-10-21   3438.92\n",
      "2002-10-22   3360.93\n",
      "2002-10-23   3536.14\n",
      "2002-10-24   3523.98\n",
      "...              ...\n",
      "2022-07-15  23253.11\n",
      "2022-07-18  23478.68\n",
      "2022-07-19  23367.45\n",
      "2022-07-20  23490.83\n",
      "2022-07-21  23884.72\n",
      "\n",
      "[4869 rows x 1 columns]\n"
     ]
    }
   ],
   "source": [
    "print(TW50_dataframe[['TW50TR']])"
   ]
  },
  {
   "cell_type": "code",
   "execution_count": null,
   "metadata": {},
   "outputs": [],
   "source": [
    "plt.plot(TW50_dataframe.TW50TR)"
   ]
  },
  {
   "cell_type": "code",
   "execution_count": 9,
   "metadata": {},
   "outputs": [],
   "source": [
    "# TW50_dataframe.to_csv('./台灣指數資料.csv')"
   ]
  },
  {
   "cell_type": "code",
   "execution_count": 5,
   "metadata": {},
   "outputs": [
    {
     "data": {
      "text/plain": [
       "{46, 86, 91, 141}"
      ]
     },
     "execution_count": 5,
     "metadata": {},
     "output_type": "execute_result"
    }
   ],
   "source": [
    "set(TW50_dataframe[TW50_dataframe.TW50_drawdown > 0.2].TW50_record_high_order)"
   ]
  },
  {
   "cell_type": "code",
   "execution_count": 6,
   "metadata": {},
   "outputs": [
    {
     "data": {
      "text/html": [
       "<div>\n",
       "<style scoped>\n",
       "    .dataframe tbody tr th:only-of-type {\n",
       "        vertical-align: middle;\n",
       "    }\n",
       "\n",
       "    .dataframe tbody tr th {\n",
       "        vertical-align: top;\n",
       "    }\n",
       "\n",
       "    .dataframe thead th {\n",
       "        text-align: right;\n",
       "    }\n",
       "</style>\n",
       "<table border=\"1\" class=\"dataframe\">\n",
       "  <thead>\n",
       "    <tr style=\"text-align: right;\">\n",
       "      <th></th>\n",
       "      <th>TW50</th>\n",
       "      <th>TW50TR</th>\n",
       "      <th>TW50_record_high</th>\n",
       "      <th>TW50TR_record_high</th>\n",
       "      <th>TW50_drawdown</th>\n",
       "      <th>TW50TR_drawdown</th>\n",
       "      <th>TW50_record_high_order</th>\n",
       "    </tr>\n",
       "  </thead>\n",
       "  <tbody>\n",
       "    <tr>\n",
       "      <th>2008-01-07</th>\n",
       "      <td>5635.29</td>\n",
       "      <td>6726.32</td>\n",
       "      <td>7057.62</td>\n",
       "      <td>8424.02</td>\n",
       "      <td>0.201531</td>\n",
       "      <td>0.201531</td>\n",
       "      <td>86</td>\n",
       "    </tr>\n",
       "  </tbody>\n",
       "</table>\n",
       "</div>"
      ],
      "text/plain": [
       "               TW50   TW50TR  TW50_record_high  TW50TR_record_high  \\\n",
       "2008-01-07  5635.29  6726.32           7057.62             8424.02   \n",
       "\n",
       "            TW50_drawdown  TW50TR_drawdown  TW50_record_high_order  \n",
       "2008-01-07       0.201531         0.201531                      86  "
      ]
     },
     "execution_count": 6,
     "metadata": {},
     "output_type": "execute_result"
    }
   ],
   "source": [
    "TW50_dataframe[(TW50_dataframe.TW50_record_high_order == 86) & (TW50_dataframe.TW50_drawdown > 0.2)].head(1)"
   ]
  },
  {
   "cell_type": "code",
   "execution_count": 7,
   "metadata": {},
   "outputs": [
    {
     "data": {
      "text/html": [
       "<div>\n",
       "<style scoped>\n",
       "    .dataframe tbody tr th:only-of-type {\n",
       "        vertical-align: middle;\n",
       "    }\n",
       "\n",
       "    .dataframe tbody tr th {\n",
       "        vertical-align: top;\n",
       "    }\n",
       "\n",
       "    .dataframe thead th {\n",
       "        text-align: right;\n",
       "    }\n",
       "</style>\n",
       "<table border=\"1\" class=\"dataframe\">\n",
       "  <thead>\n",
       "    <tr style=\"text-align: right;\">\n",
       "      <th></th>\n",
       "      <th>TW50</th>\n",
       "      <th>TW50TR</th>\n",
       "      <th>TW50_record_high</th>\n",
       "      <th>TW50TR_record_high</th>\n",
       "      <th>TW50_drawdown</th>\n",
       "      <th>TW50TR_drawdown</th>\n",
       "      <th>TW50_record_high_order</th>\n",
       "    </tr>\n",
       "  </thead>\n",
       "  <tbody>\n",
       "    <tr>\n",
       "      <th>2008-07-15</th>\n",
       "      <td>4878.79</td>\n",
       "      <td>5937.33</td>\n",
       "      <td>7057.62</td>\n",
       "      <td>8424.02</td>\n",
       "      <td>0.30872</td>\n",
       "      <td>0.29519</td>\n",
       "      <td>86</td>\n",
       "    </tr>\n",
       "  </tbody>\n",
       "</table>\n",
       "</div>"
      ],
      "text/plain": [
       "               TW50   TW50TR  TW50_record_high  TW50TR_record_high  \\\n",
       "2008-07-15  4878.79  5937.33           7057.62             8424.02   \n",
       "\n",
       "            TW50_drawdown  TW50TR_drawdown  TW50_record_high_order  \n",
       "2008-07-15        0.30872          0.29519                      86  "
      ]
     },
     "execution_count": 7,
     "metadata": {},
     "output_type": "execute_result"
    }
   ],
   "source": [
    "TW50_dataframe[(TW50_dataframe.TW50_record_high_order == 86) & (TW50_dataframe.TW50_drawdown > 0.3)].head(1)"
   ]
  },
  {
   "cell_type": "code",
   "execution_count": 8,
   "metadata": {},
   "outputs": [
    {
     "data": {
      "text/html": [
       "<div>\n",
       "<style scoped>\n",
       "    .dataframe tbody tr th:only-of-type {\n",
       "        vertical-align: middle;\n",
       "    }\n",
       "\n",
       "    .dataframe tbody tr th {\n",
       "        vertical-align: top;\n",
       "    }\n",
       "\n",
       "    .dataframe thead th {\n",
       "        text-align: right;\n",
       "    }\n",
       "</style>\n",
       "<table border=\"1\" class=\"dataframe\">\n",
       "  <thead>\n",
       "    <tr style=\"text-align: right;\">\n",
       "      <th></th>\n",
       "      <th>TW50</th>\n",
       "      <th>TW50TR</th>\n",
       "      <th>TW50_record_high</th>\n",
       "      <th>TW50TR_record_high</th>\n",
       "      <th>TW50_drawdown</th>\n",
       "      <th>TW50TR_drawdown</th>\n",
       "      <th>TW50_record_high_order</th>\n",
       "    </tr>\n",
       "  </thead>\n",
       "  <tbody>\n",
       "    <tr>\n",
       "      <th>2008-10-06</th>\n",
       "      <td>4055.32</td>\n",
       "      <td>5098.12</td>\n",
       "      <td>7057.62</td>\n",
       "      <td>8424.02</td>\n",
       "      <td>0.425398</td>\n",
       "      <td>0.394812</td>\n",
       "      <td>86</td>\n",
       "    </tr>\n",
       "  </tbody>\n",
       "</table>\n",
       "</div>"
      ],
      "text/plain": [
       "               TW50   TW50TR  TW50_record_high  TW50TR_record_high  \\\n",
       "2008-10-06  4055.32  5098.12           7057.62             8424.02   \n",
       "\n",
       "            TW50_drawdown  TW50TR_drawdown  TW50_record_high_order  \n",
       "2008-10-06       0.425398         0.394812                      86  "
      ]
     },
     "execution_count": 8,
     "metadata": {},
     "output_type": "execute_result"
    }
   ],
   "source": [
    "TW50_dataframe[(TW50_dataframe.TW50_record_high_order == 86) & (TW50_dataframe.TW50_drawdown > 0.4)].head(1)"
   ]
  },
  {
   "cell_type": "code",
   "execution_count": 9,
   "metadata": {},
   "outputs": [
    {
     "data": {
      "text/html": [
       "<div>\n",
       "<style scoped>\n",
       "    .dataframe tbody tr th:only-of-type {\n",
       "        vertical-align: middle;\n",
       "    }\n",
       "\n",
       "    .dataframe tbody tr th {\n",
       "        vertical-align: top;\n",
       "    }\n",
       "\n",
       "    .dataframe thead th {\n",
       "        text-align: right;\n",
       "    }\n",
       "</style>\n",
       "<table border=\"1\" class=\"dataframe\">\n",
       "  <thead>\n",
       "    <tr style=\"text-align: right;\">\n",
       "      <th></th>\n",
       "      <th>TW50</th>\n",
       "      <th>TW50TR</th>\n",
       "      <th>TW50_record_high</th>\n",
       "      <th>TW50TR_record_high</th>\n",
       "      <th>TW50_drawdown</th>\n",
       "      <th>TW50TR_drawdown</th>\n",
       "      <th>TW50_record_high_order</th>\n",
       "    </tr>\n",
       "  </thead>\n",
       "  <tbody>\n",
       "    <tr>\n",
       "      <th>2008-10-23</th>\n",
       "      <td>3446.62</td>\n",
       "      <td>4345.38</td>\n",
       "      <td>7057.62</td>\n",
       "      <td>8424.02</td>\n",
       "      <td>0.511646</td>\n",
       "      <td>0.484168</td>\n",
       "      <td>86</td>\n",
       "    </tr>\n",
       "  </tbody>\n",
       "</table>\n",
       "</div>"
      ],
      "text/plain": [
       "               TW50   TW50TR  TW50_record_high  TW50TR_record_high  \\\n",
       "2008-10-23  3446.62  4345.38           7057.62             8424.02   \n",
       "\n",
       "            TW50_drawdown  TW50TR_drawdown  TW50_record_high_order  \n",
       "2008-10-23       0.511646         0.484168                      86  "
      ]
     },
     "execution_count": 9,
     "metadata": {},
     "output_type": "execute_result"
    }
   ],
   "source": [
    "TW50_dataframe[(TW50_dataframe.TW50_record_high_order == 86) & (TW50_dataframe.TW50_drawdown > 0.5)].head(1)"
   ]
  },
  {
   "cell_type": "code",
   "execution_count": 10,
   "metadata": {},
   "outputs": [
    {
     "data": {
      "text/html": [
       "<div>\n",
       "<style scoped>\n",
       "    .dataframe tbody tr th:only-of-type {\n",
       "        vertical-align: middle;\n",
       "    }\n",
       "\n",
       "    .dataframe tbody tr th {\n",
       "        vertical-align: top;\n",
       "    }\n",
       "\n",
       "    .dataframe thead th {\n",
       "        text-align: right;\n",
       "    }\n",
       "</style>\n",
       "<table border=\"1\" class=\"dataframe\">\n",
       "  <thead>\n",
       "    <tr style=\"text-align: right;\">\n",
       "      <th></th>\n",
       "      <th>TW50</th>\n",
       "      <th>TW50TR</th>\n",
       "      <th>TW50_record_high</th>\n",
       "      <th>TW50TR_record_high</th>\n",
       "      <th>TW50_drawdown</th>\n",
       "      <th>TW50TR_drawdown</th>\n",
       "      <th>TW50_record_high_order</th>\n",
       "    </tr>\n",
       "  </thead>\n",
       "  <tbody>\n",
       "    <tr>\n",
       "      <th>2015-08-21</th>\n",
       "      <td>5792.48</td>\n",
       "      <td>9223.7</td>\n",
       "      <td>7306.38</td>\n",
       "      <td>11252.89</td>\n",
       "      <td>0.207202</td>\n",
       "      <td>0.180326</td>\n",
       "      <td>91</td>\n",
       "    </tr>\n",
       "  </tbody>\n",
       "</table>\n",
       "</div>"
      ],
      "text/plain": [
       "               TW50  TW50TR  TW50_record_high  TW50TR_record_high  \\\n",
       "2015-08-21  5792.48  9223.7           7306.38            11252.89   \n",
       "\n",
       "            TW50_drawdown  TW50TR_drawdown  TW50_record_high_order  \n",
       "2015-08-21       0.207202         0.180326                      91  "
      ]
     },
     "execution_count": 10,
     "metadata": {},
     "output_type": "execute_result"
    }
   ],
   "source": [
    "TW50_dataframe[(TW50_dataframe.TW50_record_high_order == 91) & (TW50_dataframe.TW50_drawdown > 0.2)].head(1)"
   ]
  },
  {
   "cell_type": "code",
   "execution_count": 11,
   "metadata": {},
   "outputs": [
    {
     "data": {
      "text/html": [
       "<div>\n",
       "<style scoped>\n",
       "    .dataframe tbody tr th:only-of-type {\n",
       "        vertical-align: middle;\n",
       "    }\n",
       "\n",
       "    .dataframe tbody tr th {\n",
       "        vertical-align: top;\n",
       "    }\n",
       "\n",
       "    .dataframe thead th {\n",
       "        text-align: right;\n",
       "    }\n",
       "</style>\n",
       "<table border=\"1\" class=\"dataframe\">\n",
       "  <thead>\n",
       "    <tr style=\"text-align: right;\">\n",
       "      <th></th>\n",
       "      <th>TW50</th>\n",
       "      <th>TW50TR</th>\n",
       "      <th>TW50_record_high</th>\n",
       "      <th>TW50TR_record_high</th>\n",
       "      <th>TW50_drawdown</th>\n",
       "      <th>TW50TR_drawdown</th>\n",
       "      <th>TW50_record_high_order</th>\n",
       "    </tr>\n",
       "  </thead>\n",
       "  <tbody>\n",
       "    <tr>\n",
       "      <th>2020-03-17</th>\n",
       "      <td>7461.55</td>\n",
       "      <td>14092.54</td>\n",
       "      <td>9546.54</td>\n",
       "      <td>17976.33</td>\n",
       "      <td>0.218403</td>\n",
       "      <td>0.21605</td>\n",
       "      <td>141</td>\n",
       "    </tr>\n",
       "  </tbody>\n",
       "</table>\n",
       "</div>"
      ],
      "text/plain": [
       "               TW50    TW50TR  TW50_record_high  TW50TR_record_high  \\\n",
       "2020-03-17  7461.55  14092.54           9546.54            17976.33   \n",
       "\n",
       "            TW50_drawdown  TW50TR_drawdown  TW50_record_high_order  \n",
       "2020-03-17       0.218403          0.21605                     141  "
      ]
     },
     "execution_count": 11,
     "metadata": {},
     "output_type": "execute_result"
    }
   ],
   "source": [
    "TW50_dataframe[(TW50_dataframe.TW50_record_high_order == 141) & (TW50_dataframe.TW50_drawdown > 0.2)].head(1)"
   ]
  },
  {
   "cell_type": "code",
   "execution_count": 12,
   "metadata": {},
   "outputs": [
    {
     "data": {
      "text/plain": [
       "(0.22450745631512445, 0.010718258399557656, 0.007468135623528483)"
      ]
     },
     "execution_count": 12,
     "metadata": {},
     "output_type": "execute_result"
    }
   ],
   "source": [
    "loss_20_1 = 6726.32\n",
    "loss_30_1 = 5937.33\n",
    "loss_40_1 = 5098.12\n",
    "loss_50_1 = 4345.38\n",
    "loss_max_1 = 3709.01\n",
    "\n",
    "loss_20_2 = 9223.7\n",
    "loss_max_2 = 8894.16\n",
    "\n",
    "loss_20_3 = 14092.54\n",
    "loss_max_3 = 13040.09\n",
    "\n",
    "avg_cost_1 = loss_20_1*0.3 + loss_30_1*0.1 + loss_40_1*0.1 + loss_50_1*0.1\n",
    "max_drawdown_1 = 0.6*(1 - (0.6*loss_max_1/avg_cost_1))\n",
    "\n",
    "avg_cost_2 = loss_20_2*0.3\n",
    "max_drawdown_2 = 0.3*(1 - (0.3*loss_max_2/avg_cost_2))\n",
    "\n",
    "avg_cost_3 = loss_20_3*0.1\n",
    "max_drawdown_3 = 0.1*(1 - (0.1*loss_max_3/avg_cost_3))\n",
    "\n",
    "max_drawdown_1, max_drawdown_2, max_drawdown_3"
   ]
  },
  {
   "cell_type": "code",
   "execution_count": 13,
   "metadata": {},
   "outputs": [],
   "source": [
    "# 92年1月到96年1月台銀一年期定儲利率\n",
    "interest_rate_92 = np.array([1.55, 1.425, 1.62, 2.02, 2.26])*0.01\n",
    "# 97年1月開始台銀一年期定儲利率\n",
    "interest_rate_97 = np.array([2.66, 0.945, 0.915, 1.21, 1.38, 1.38, 1.38, 1.38, 1.23, 1.07, 1.07, 1.07, 1.07, 0.79])*0.01"
   ]
  },
  {
   "cell_type": "code",
   "execution_count": 14,
   "metadata": {},
   "outputs": [
    {
     "data": {
      "text/plain": [
       "1.1028643092261075"
      ]
     },
     "execution_count": 14,
     "metadata": {},
     "output_type": "execute_result"
    }
   ],
   "source": [
    "np.prod(1 + interest_rate_97[:7])"
   ]
  },
  {
   "cell_type": "code",
   "execution_count": 15,
   "metadata": {},
   "outputs": [
    {
     "data": {
      "text/plain": [
       "1.1561871479518007"
      ]
     },
     "execution_count": 15,
     "metadata": {},
     "output_type": "execute_result"
    }
   ],
   "source": [
    "np.prod(1 + interest_rate_97[:-3])"
   ]
  },
  {
   "cell_type": "code",
   "execution_count": 16,
   "metadata": {},
   "outputs": [
    {
     "data": {
      "text/plain": [
       "0.16673137320939047"
      ]
     },
     "execution_count": 16,
     "metadata": {},
     "output_type": "execute_result"
    }
   ],
   "source": [
    "# 從2008年開始入場起算(下跌20%投入三成，每多下跌10%再投入一成，其餘以定存計算)\n",
    "np.exp(np.log(0.6*TW50_dataframe.TW50TR[-1]/avg_cost_1 + np.prod(1 + interest_rate_97[:7])*0.3*TW50_dataframe.TW50TR[-1]/avg_cost_2 + np.prod(1 + interest_rate_97[:-3])*0.1*TW50_dataframe.TW50TR[-1]/avg_cost_3) / 14.5) - 1"
   ]
  },
  {
   "cell_type": "code",
   "execution_count": 17,
   "metadata": {},
   "outputs": [
    {
     "data": {
      "text/plain": [
       "0.09555548217234144"
      ]
     },
     "execution_count": 17,
     "metadata": {},
     "output_type": "execute_result"
    }
   ],
   "source": [
    "# 從2008年開始入場起算(直接全部投入)\n",
    "np.exp(np.log(TW50_dataframe.TW50TR[-1]/loss_20_1) / 14.5) - 1"
   ]
  },
  {
   "cell_type": "code",
   "execution_count": 18,
   "metadata": {},
   "outputs": [
    {
     "data": {
      "text/plain": [
       "0.12656845649335136"
      ]
     },
     "execution_count": 18,
     "metadata": {},
     "output_type": "execute_result"
    }
   ],
   "source": [
    "# 從2002年開始入場起算(下跌20%投入三成，每多下跌10%再投入一成，其餘以定存計算)\n",
    "np.exp(np.log(np.prod(1 + interest_rate_92)*(0.6*TW50_dataframe.TW50TR[-1]/avg_cost_1 + np.prod(1 + interest_rate_97[:7])*0.3*TW50_dataframe.TW50TR[-1]/avg_cost_2 + np.prod(1 + interest_rate_97[:-3])*0.1*TW50_dataframe.TW50TR[-1]/avg_cost_3)) / 19.5) - 1"
   ]
  },
  {
   "cell_type": "code",
   "execution_count": 19,
   "metadata": {},
   "outputs": [
    {
     "data": {
      "text/plain": [
       "0.10752478491536577"
      ]
     },
     "execution_count": 19,
     "metadata": {},
     "output_type": "execute_result"
    }
   ],
   "source": [
    "# 從2002年開始入場起算(直接全部投入)\n",
    "np.exp(np.log(TW50_dataframe.TW50TR[-1]/TW50_dataframe.TW50TR[0]) / 19.5) - 1"
   ]
  },
  {
   "cell_type": "markdown",
   "metadata": {},
   "source": [
    "## 標普500"
   ]
  },
  {
   "cell_type": "code",
   "execution_count": 20,
   "metadata": {},
   "outputs": [],
   "source": [
    "SP500 = pdr.DataReader(name='^GSPC', data_source='yahoo', start='2002-10-01')\n",
    "SP500TR = pdr.DataReader(name='^SP500TR', data_source='yahoo', start='2002-10-01')\n",
    "\n",
    "SP500_data = {'SP500': SP500.Close, 'SP500TR':SP500TR.Close}\n",
    "SP500_dataframe = pd.DataFrame(data=SP500_data, index=pd.to_datetime(SP500.index))\n",
    "\n",
    "SP500_record_high = []\n",
    "SP500TR_record_high = []\n",
    "for i in range(len(SP500_dataframe.SP500)):\n",
    "    SP500_record_high.append(SP500_dataframe.SP500[SP500_dataframe.SP500[:i+1].idxmax()])\n",
    "    SP500TR_record_high.append(SP500_dataframe.SP500TR[SP500_dataframe.SP500[:i+1].idxmax()])\n",
    "SP500_dataframe['SP500_record_high'] = SP500_record_high\n",
    "SP500_dataframe['SP500TR_record_high'] = SP500TR_record_high\n",
    "SP500_dataframe['SP500_drawdown'] = 1 - (SP500_dataframe.SP500 / SP500_dataframe.SP500_record_high)\n",
    "SP500_dataframe['SP500TR_drawdown'] = 1 - (SP500_dataframe.SP500TR / SP500_dataframe.SP500TR_record_high)\n",
    "\n",
    "SP500_record_high_order = [0]\n",
    "order = 0\n",
    "for i in range(1, len(SP500.Close)):\n",
    "    if SP500_dataframe.SP500_record_high[i] > SP500_dataframe.SP500_record_high[i-1]:\n",
    "        order += 1\n",
    "    SP500_record_high_order.append(order)\n",
    "SP500_dataframe['SP500_record_high_order'] = SP500_record_high_order"
   ]
  },
  {
   "cell_type": "code",
   "execution_count": 21,
   "metadata": {},
   "outputs": [
    {
     "data": {
      "text/plain": [
       "{148, 403}"
      ]
     },
     "execution_count": 21,
     "metadata": {},
     "output_type": "execute_result"
    }
   ],
   "source": [
    "set(SP500_dataframe[SP500_dataframe.SP500_drawdown > 0.2].SP500_record_high_order)"
   ]
  },
  {
   "cell_type": "code",
   "execution_count": 22,
   "metadata": {},
   "outputs": [
    {
     "data": {
      "text/html": [
       "<div>\n",
       "<style scoped>\n",
       "    .dataframe tbody tr th:only-of-type {\n",
       "        vertical-align: middle;\n",
       "    }\n",
       "\n",
       "    .dataframe tbody tr th {\n",
       "        vertical-align: top;\n",
       "    }\n",
       "\n",
       "    .dataframe thead th {\n",
       "        text-align: right;\n",
       "    }\n",
       "</style>\n",
       "<table border=\"1\" class=\"dataframe\">\n",
       "  <thead>\n",
       "    <tr style=\"text-align: right;\">\n",
       "      <th></th>\n",
       "      <th>SP500</th>\n",
       "      <th>SP500TR</th>\n",
       "      <th>SP500_record_high</th>\n",
       "      <th>SP500TR_record_high</th>\n",
       "      <th>SP500_drawdown</th>\n",
       "      <th>SP500TR_drawdown</th>\n",
       "      <th>SP500_record_high_order</th>\n",
       "    </tr>\n",
       "    <tr>\n",
       "      <th>Date</th>\n",
       "      <th></th>\n",
       "      <th></th>\n",
       "      <th></th>\n",
       "      <th></th>\n",
       "      <th></th>\n",
       "      <th></th>\n",
       "      <th></th>\n",
       "    </tr>\n",
       "  </thead>\n",
       "  <tbody>\n",
       "    <tr>\n",
       "      <th>2008-07-09</th>\n",
       "      <td>1244.689941</td>\n",
       "      <td>1976.969971</td>\n",
       "      <td>1565.150024</td>\n",
       "      <td>2447.030029</td>\n",
       "      <td>0.204747</td>\n",
       "      <td>0.192094</td>\n",
       "      <td>148</td>\n",
       "    </tr>\n",
       "  </tbody>\n",
       "</table>\n",
       "</div>"
      ],
      "text/plain": [
       "                  SP500      SP500TR  SP500_record_high  SP500TR_record_high  \\\n",
       "Date                                                                           \n",
       "2008-07-09  1244.689941  1976.969971        1565.150024          2447.030029   \n",
       "\n",
       "            SP500_drawdown  SP500TR_drawdown  SP500_record_high_order  \n",
       "Date                                                                   \n",
       "2008-07-09        0.204747          0.192094                      148  "
      ]
     },
     "execution_count": 22,
     "metadata": {},
     "output_type": "execute_result"
    }
   ],
   "source": [
    "SP500_dataframe[(SP500_dataframe.SP500_record_high_order == 148) & (SP500_dataframe.SP500_drawdown > 0.2)].head(1)"
   ]
  },
  {
   "cell_type": "code",
   "execution_count": 23,
   "metadata": {},
   "outputs": [
    {
     "data": {
      "text/html": [
       "<div>\n",
       "<style scoped>\n",
       "    .dataframe tbody tr th:only-of-type {\n",
       "        vertical-align: middle;\n",
       "    }\n",
       "\n",
       "    .dataframe tbody tr th {\n",
       "        vertical-align: top;\n",
       "    }\n",
       "\n",
       "    .dataframe thead th {\n",
       "        text-align: right;\n",
       "    }\n",
       "</style>\n",
       "<table border=\"1\" class=\"dataframe\">\n",
       "  <thead>\n",
       "    <tr style=\"text-align: right;\">\n",
       "      <th></th>\n",
       "      <th>SP500</th>\n",
       "      <th>SP500TR</th>\n",
       "      <th>SP500_record_high</th>\n",
       "      <th>SP500TR_record_high</th>\n",
       "      <th>SP500_drawdown</th>\n",
       "      <th>SP500TR_drawdown</th>\n",
       "      <th>SP500_record_high_order</th>\n",
       "    </tr>\n",
       "    <tr>\n",
       "      <th>Date</th>\n",
       "      <th></th>\n",
       "      <th></th>\n",
       "      <th></th>\n",
       "      <th></th>\n",
       "      <th></th>\n",
       "      <th></th>\n",
       "      <th></th>\n",
       "    </tr>\n",
       "  </thead>\n",
       "  <tbody>\n",
       "    <tr>\n",
       "      <th>2008-10-06</th>\n",
       "      <td>1056.890015</td>\n",
       "      <td>1687.339966</td>\n",
       "      <td>1565.150024</td>\n",
       "      <td>2447.030029</td>\n",
       "      <td>0.324736</td>\n",
       "      <td>0.310454</td>\n",
       "      <td>148</td>\n",
       "    </tr>\n",
       "  </tbody>\n",
       "</table>\n",
       "</div>"
      ],
      "text/plain": [
       "                  SP500      SP500TR  SP500_record_high  SP500TR_record_high  \\\n",
       "Date                                                                           \n",
       "2008-10-06  1056.890015  1687.339966        1565.150024          2447.030029   \n",
       "\n",
       "            SP500_drawdown  SP500TR_drawdown  SP500_record_high_order  \n",
       "Date                                                                   \n",
       "2008-10-06        0.324736          0.310454                      148  "
      ]
     },
     "execution_count": 23,
     "metadata": {},
     "output_type": "execute_result"
    }
   ],
   "source": [
    "SP500_dataframe[(SP500_dataframe.SP500_record_high_order == 148) & (SP500_dataframe.SP500_drawdown > 0.3)].head(1)"
   ]
  },
  {
   "cell_type": "code",
   "execution_count": 24,
   "metadata": {},
   "outputs": [
    {
     "data": {
      "text/html": [
       "<div>\n",
       "<style scoped>\n",
       "    .dataframe tbody tr th:only-of-type {\n",
       "        vertical-align: middle;\n",
       "    }\n",
       "\n",
       "    .dataframe tbody tr th {\n",
       "        vertical-align: top;\n",
       "    }\n",
       "\n",
       "    .dataframe thead th {\n",
       "        text-align: right;\n",
       "    }\n",
       "</style>\n",
       "<table border=\"1\" class=\"dataframe\">\n",
       "  <thead>\n",
       "    <tr style=\"text-align: right;\">\n",
       "      <th></th>\n",
       "      <th>SP500</th>\n",
       "      <th>SP500TR</th>\n",
       "      <th>SP500_record_high</th>\n",
       "      <th>SP500TR_record_high</th>\n",
       "      <th>SP500_drawdown</th>\n",
       "      <th>SP500TR_drawdown</th>\n",
       "      <th>SP500_record_high_order</th>\n",
       "    </tr>\n",
       "    <tr>\n",
       "      <th>Date</th>\n",
       "      <th></th>\n",
       "      <th></th>\n",
       "      <th></th>\n",
       "      <th></th>\n",
       "      <th></th>\n",
       "      <th></th>\n",
       "      <th></th>\n",
       "    </tr>\n",
       "  </thead>\n",
       "  <tbody>\n",
       "    <tr>\n",
       "      <th>2008-10-09</th>\n",
       "      <td>909.919983</td>\n",
       "      <td>1453.52002</td>\n",
       "      <td>1565.150024</td>\n",
       "      <td>2447.030029</td>\n",
       "      <td>0.418637</td>\n",
       "      <td>0.406006</td>\n",
       "      <td>148</td>\n",
       "    </tr>\n",
       "  </tbody>\n",
       "</table>\n",
       "</div>"
      ],
      "text/plain": [
       "                 SP500     SP500TR  SP500_record_high  SP500TR_record_high  \\\n",
       "Date                                                                         \n",
       "2008-10-09  909.919983  1453.52002        1565.150024          2447.030029   \n",
       "\n",
       "            SP500_drawdown  SP500TR_drawdown  SP500_record_high_order  \n",
       "Date                                                                   \n",
       "2008-10-09        0.418637          0.406006                      148  "
      ]
     },
     "execution_count": 24,
     "metadata": {},
     "output_type": "execute_result"
    }
   ],
   "source": [
    "SP500_dataframe[(SP500_dataframe.SP500_record_high_order == 148) & (SP500_dataframe.SP500_drawdown > 0.4)].head(1)"
   ]
  },
  {
   "cell_type": "code",
   "execution_count": 25,
   "metadata": {},
   "outputs": [
    {
     "data": {
      "text/html": [
       "<div>\n",
       "<style scoped>\n",
       "    .dataframe tbody tr th:only-of-type {\n",
       "        vertical-align: middle;\n",
       "    }\n",
       "\n",
       "    .dataframe tbody tr th {\n",
       "        vertical-align: top;\n",
       "    }\n",
       "\n",
       "    .dataframe thead th {\n",
       "        text-align: right;\n",
       "    }\n",
       "</style>\n",
       "<table border=\"1\" class=\"dataframe\">\n",
       "  <thead>\n",
       "    <tr style=\"text-align: right;\">\n",
       "      <th></th>\n",
       "      <th>SP500</th>\n",
       "      <th>SP500TR</th>\n",
       "      <th>SP500_record_high</th>\n",
       "      <th>SP500TR_record_high</th>\n",
       "      <th>SP500_drawdown</th>\n",
       "      <th>SP500TR_drawdown</th>\n",
       "      <th>SP500_record_high_order</th>\n",
       "    </tr>\n",
       "    <tr>\n",
       "      <th>Date</th>\n",
       "      <th></th>\n",
       "      <th></th>\n",
       "      <th></th>\n",
       "      <th></th>\n",
       "      <th></th>\n",
       "      <th></th>\n",
       "      <th></th>\n",
       "    </tr>\n",
       "  </thead>\n",
       "  <tbody>\n",
       "    <tr>\n",
       "      <th>2008-11-20</th>\n",
       "      <td>752.440002</td>\n",
       "      <td>1206.040039</td>\n",
       "      <td>1565.150024</td>\n",
       "      <td>2447.030029</td>\n",
       "      <td>0.519254</td>\n",
       "      <td>0.507141</td>\n",
       "      <td>148</td>\n",
       "    </tr>\n",
       "  </tbody>\n",
       "</table>\n",
       "</div>"
      ],
      "text/plain": [
       "                 SP500      SP500TR  SP500_record_high  SP500TR_record_high  \\\n",
       "Date                                                                          \n",
       "2008-11-20  752.440002  1206.040039        1565.150024          2447.030029   \n",
       "\n",
       "            SP500_drawdown  SP500TR_drawdown  SP500_record_high_order  \n",
       "Date                                                                   \n",
       "2008-11-20        0.519254          0.507141                      148  "
      ]
     },
     "execution_count": 25,
     "metadata": {},
     "output_type": "execute_result"
    }
   ],
   "source": [
    "SP500_dataframe[(SP500_dataframe.SP500_record_high_order == 148) & (SP500_dataframe.SP500_drawdown > 0.5)].head(1)"
   ]
  },
  {
   "cell_type": "code",
   "execution_count": 26,
   "metadata": {},
   "outputs": [
    {
     "data": {
      "text/html": [
       "<div>\n",
       "<style scoped>\n",
       "    .dataframe tbody tr th:only-of-type {\n",
       "        vertical-align: middle;\n",
       "    }\n",
       "\n",
       "    .dataframe tbody tr th {\n",
       "        vertical-align: top;\n",
       "    }\n",
       "\n",
       "    .dataframe thead th {\n",
       "        text-align: right;\n",
       "    }\n",
       "</style>\n",
       "<table border=\"1\" class=\"dataframe\">\n",
       "  <thead>\n",
       "    <tr style=\"text-align: right;\">\n",
       "      <th></th>\n",
       "      <th>SP500</th>\n",
       "      <th>SP500TR</th>\n",
       "      <th>SP500_record_high</th>\n",
       "      <th>SP500TR_record_high</th>\n",
       "      <th>SP500_drawdown</th>\n",
       "      <th>SP500TR_drawdown</th>\n",
       "      <th>SP500_record_high_order</th>\n",
       "    </tr>\n",
       "    <tr>\n",
       "      <th>Date</th>\n",
       "      <th></th>\n",
       "      <th></th>\n",
       "      <th></th>\n",
       "      <th></th>\n",
       "      <th></th>\n",
       "      <th></th>\n",
       "      <th></th>\n",
       "    </tr>\n",
       "  </thead>\n",
       "  <tbody>\n",
       "    <tr>\n",
       "      <th>2020-03-12</th>\n",
       "      <td>2480.639893</td>\n",
       "      <td>5051.970215</td>\n",
       "      <td>3386.149902</td>\n",
       "      <td>6886.470215</td>\n",
       "      <td>0.267416</td>\n",
       "      <td>0.266392</td>\n",
       "      <td>403</td>\n",
       "    </tr>\n",
       "  </tbody>\n",
       "</table>\n",
       "</div>"
      ],
      "text/plain": [
       "                  SP500      SP500TR  SP500_record_high  SP500TR_record_high  \\\n",
       "Date                                                                           \n",
       "2020-03-12  2480.639893  5051.970215        3386.149902          6886.470215   \n",
       "\n",
       "            SP500_drawdown  SP500TR_drawdown  SP500_record_high_order  \n",
       "Date                                                                   \n",
       "2020-03-12        0.267416          0.266392                      403  "
      ]
     },
     "execution_count": 26,
     "metadata": {},
     "output_type": "execute_result"
    }
   ],
   "source": [
    "SP500_dataframe[(SP500_dataframe.SP500_record_high_order == 403) & (SP500_dataframe.SP500_drawdown > 0.2)].head(1)"
   ]
  },
  {
   "cell_type": "code",
   "execution_count": 27,
   "metadata": {},
   "outputs": [
    {
     "data": {
      "text/html": [
       "<div>\n",
       "<style scoped>\n",
       "    .dataframe tbody tr th:only-of-type {\n",
       "        vertical-align: middle;\n",
       "    }\n",
       "\n",
       "    .dataframe tbody tr th {\n",
       "        vertical-align: top;\n",
       "    }\n",
       "\n",
       "    .dataframe thead th {\n",
       "        text-align: right;\n",
       "    }\n",
       "</style>\n",
       "<table border=\"1\" class=\"dataframe\">\n",
       "  <thead>\n",
       "    <tr style=\"text-align: right;\">\n",
       "      <th></th>\n",
       "      <th>SP500</th>\n",
       "      <th>SP500TR</th>\n",
       "      <th>SP500_record_high</th>\n",
       "      <th>SP500TR_record_high</th>\n",
       "      <th>SP500_drawdown</th>\n",
       "      <th>SP500TR_drawdown</th>\n",
       "      <th>SP500_record_high_order</th>\n",
       "    </tr>\n",
       "    <tr>\n",
       "      <th>Date</th>\n",
       "      <th></th>\n",
       "      <th></th>\n",
       "      <th></th>\n",
       "      <th></th>\n",
       "      <th></th>\n",
       "      <th></th>\n",
       "      <th></th>\n",
       "    </tr>\n",
       "  </thead>\n",
       "  <tbody>\n",
       "    <tr>\n",
       "      <th>2020-03-20</th>\n",
       "      <td>2304.919922</td>\n",
       "      <td>4697.089844</td>\n",
       "      <td>3386.149902</td>\n",
       "      <td>6886.470215</td>\n",
       "      <td>0.31931</td>\n",
       "      <td>0.317925</td>\n",
       "      <td>403</td>\n",
       "    </tr>\n",
       "  </tbody>\n",
       "</table>\n",
       "</div>"
      ],
      "text/plain": [
       "                  SP500      SP500TR  SP500_record_high  SP500TR_record_high  \\\n",
       "Date                                                                           \n",
       "2020-03-20  2304.919922  4697.089844        3386.149902          6886.470215   \n",
       "\n",
       "            SP500_drawdown  SP500TR_drawdown  SP500_record_high_order  \n",
       "Date                                                                   \n",
       "2020-03-20         0.31931          0.317925                      403  "
      ]
     },
     "execution_count": 27,
     "metadata": {},
     "output_type": "execute_result"
    }
   ],
   "source": [
    "SP500_dataframe[(SP500_dataframe.SP500_record_high_order == 403) & (SP500_dataframe.SP500_drawdown > 0.3)].head(1)"
   ]
  },
  {
   "cell_type": "code",
   "execution_count": 28,
   "metadata": {},
   "outputs": [
    {
     "data": {
      "text/plain": [
       "(0.2164412297774873, 0.03253917189786653)"
      ]
     },
     "execution_count": 28,
     "metadata": {},
     "output_type": "execute_result"
    }
   ],
   "source": [
    "loss_20_1 = 1976.969971\n",
    "loss_30_1 = 1687.339966\n",
    "loss_40_1 = 1453.520020\n",
    "loss_50_1 = 1206.040039\n",
    "loss_max_1 = 1095.040039\t\n",
    "\n",
    "loss_20_2 = 5051.970215\n",
    "loss_30_2 = 4697.089844\n",
    "loss_max_2 = 4559.500000\n",
    "\n",
    "avg_cost_1 = loss_20_1*0.3 + loss_30_1*0.1 + loss_40_1*0.1 + loss_50_1*0.1\n",
    "max_drawdown_1 = 0.6*(1 - (0.6*loss_max_1/avg_cost_1))\n",
    "\n",
    "avg_cost_2 = loss_20_2*0.3 + loss_30_2*0.1\n",
    "max_drawdown_2 = 0.4*(1 - (0.4*loss_max_2/avg_cost_2))\n",
    "\n",
    "max_drawdown_1, max_drawdown_2"
   ]
  },
  {
   "cell_type": "code",
   "execution_count": 29,
   "metadata": {},
   "outputs": [],
   "source": [
    "# 91年7月到96年7月台銀一年期定儲利率\n",
    "interest_rate_91 = np.array([2.15, 1.425, 1.425, 1.82, 2.16, 2.54])*0.01\n",
    "# 97年7月開始台銀一年期定儲利率\n",
    "interest_rate_97 = np.array([2.76, 0.795, 1.04, 1.38, 1.38, 1.38, 1.38, 1.38, 1.07, 1.07, 1.07, 1.07, 0.79, 0.79])*0.01"
   ]
  },
  {
   "cell_type": "code",
   "execution_count": 30,
   "metadata": {},
   "outputs": [
    {
     "data": {
      "text/plain": [
       "1.1208195402350487"
      ]
     },
     "execution_count": 30,
     "metadata": {},
     "output_type": "execute_result"
    }
   ],
   "source": [
    "np.prod(1 + interest_rate_91)"
   ]
  },
  {
   "cell_type": "code",
   "execution_count": 31,
   "metadata": {},
   "outputs": [
    {
     "data": {
      "text/plain": [
       "1.178757217083611"
      ]
     },
     "execution_count": 31,
     "metadata": {},
     "output_type": "execute_result"
    }
   ],
   "source": [
    "np.prod(1 + interest_rate_97[:-1])"
   ]
  },
  {
   "cell_type": "code",
   "execution_count": 32,
   "metadata": {},
   "outputs": [
    {
     "data": {
      "text/plain": [
       "0.15143146527195595"
      ]
     },
     "execution_count": 32,
     "metadata": {},
     "output_type": "execute_result"
    }
   ],
   "source": [
    "# 從2008年開始入場起算(下跌20%投入三成，每多下跌10%再投入一成，其餘以定存計算)\n",
    "np.exp(np.log(0.6*SP500_dataframe.SP500TR[-1]/avg_cost_1 + np.prod(1 + interest_rate_97[:-1])*0.4*SP500_dataframe.SP500TR[-1]/avg_cost_2) / 14) - 1"
   ]
  },
  {
   "cell_type": "code",
   "execution_count": 33,
   "metadata": {},
   "outputs": [
    {
     "data": {
      "text/plain": [
       "0.1122515941476272"
      ]
     },
     "execution_count": 33,
     "metadata": {},
     "output_type": "execute_result"
    }
   ],
   "source": [
    "# 從2008年開始入場起算(直接全部投入)\n",
    "np.exp(np.log(SP500_dataframe.SP500TR[-1]/loss_20_1) / 14) - 1"
   ]
  },
  {
   "cell_type": "code",
   "execution_count": 34,
   "metadata": {},
   "outputs": [
    {
     "data": {
      "text/plain": [
       "0.11005232295455936"
      ]
     },
     "execution_count": 34,
     "metadata": {},
     "output_type": "execute_result"
    }
   ],
   "source": [
    "# 從2002年開始入場起算(下跌20%投入三成，每多下跌10%再投入一成，其餘以定存計算)\n",
    "np.exp(np.log(np.prod(1 + interest_rate_91)*(0.6*SP500_dataframe.SP500TR[-1]/avg_cost_1 + np.prod(1 + interest_rate_97[:-1])*0.4*SP500_dataframe.SP500TR[-1]/avg_cost_2)) / 20) - 1"
   ]
  },
  {
   "cell_type": "code",
   "execution_count": 35,
   "metadata": {},
   "outputs": [
    {
     "data": {
      "text/plain": [
       "0.10627321176307158"
      ]
     },
     "execution_count": 35,
     "metadata": {},
     "output_type": "execute_result"
    }
   ],
   "source": [
    "# 從2002年開始入場起算(直接全部投入)\n",
    "np.exp(np.log(SP500_dataframe.SP500TR[-1]/SP500_dataframe.SP500TR[0]) / 20) - 1"
   ]
  },
  {
   "cell_type": "markdown",
   "metadata": {},
   "source": [
    "# 結論"
   ]
  },
  {
   "cell_type": "markdown",
   "metadata": {},
   "source": [
    "以可得樣本期間(西元2002年或民國91年後)來看，危機入市的報酬(相較歷史高點下跌20%投入三成，每多下跌10%再投入一成，其餘以定存計算)較直接投入來得高，若不考慮匯率因素，台灣五十又比標普五百來得高(年化報酬分別約12%和11%)。"
   ]
  }
 ],
 "metadata": {
  "kernelspec": {
   "display_name": "Python 3.9.13 64-bit",
   "language": "python",
   "name": "python3"
  },
  "language_info": {
   "codemirror_mode": {
    "name": "ipython",
    "version": 3
   },
   "file_extension": ".py",
   "mimetype": "text/x-python",
   "name": "python",
   "nbconvert_exporter": "python",
   "pygments_lexer": "ipython3",
   "version": "3.9.13"
  },
  "orig_nbformat": 4,
  "vscode": {
   "interpreter": {
    "hash": "b0fa6594d8f4cbf19f97940f81e996739fb7646882a419484c72d19e05852a7e"
   }
  }
 },
 "nbformat": 4,
 "nbformat_minor": 2
}
